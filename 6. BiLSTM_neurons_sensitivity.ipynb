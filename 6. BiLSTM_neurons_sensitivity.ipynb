{
 "cells": [
  {
   "cell_type": "code",
   "execution_count": 1,
   "id": "initial_id",
   "metadata": {
    "ExecuteTime": {
     "end_time": "2025-03-26T18:27:19.988735100Z",
     "start_time": "2025-03-26T18:27:17.436097900Z"
    },
    "collapsed": true,
    "jupyter": {
     "outputs_hidden": true
    }
   },
   "outputs": [],
   "source": [
    "import torch\n",
    "import torch.nn as nn\n",
    "import torch.optim as optim\n",
    "from torch.utils.data import Dataset, DataLoader\n",
    "import pandas as pd\n",
    "import numpy as np\n",
    "import matplotlib.pyplot as plt\n",
    "from sklearn.model_selection import train_test_split\n",
    "from sklearn.metrics import mean_absolute_error, mean_squared_error, r2_score\n",
    "from torch.utils.data import TensorDataset, DataLoader"
   ]
  },
  {
   "cell_type": "code",
   "execution_count": 2,
   "id": "e34710186aa0e9e8",
   "metadata": {
    "ExecuteTime": {
     "end_time": "2025-03-26T18:27:20.043556300Z",
     "start_time": "2025-03-26T18:27:20.011706900Z"
    },
    "collapsed": false,
    "jupyter": {
     "outputs_hidden": false
    }
   },
   "outputs": [
    {
     "name": "stdout",
     "output_type": "stream",
     "text": [
      "Using device: cuda\n"
     ]
    }
   ],
   "source": [
    "# Using my GPU for faster execution \n",
    "device = torch.device(\"cuda\" if torch.cuda.is_available() else \"cpu\")\n",
    "print(\"Using device:\", device)"
   ]
  },
  {
   "cell_type": "code",
   "execution_count": 3,
   "id": "aa2f972045349619",
   "metadata": {
    "ExecuteTime": {
     "end_time": "2025-03-26T18:27:25.579946100Z",
     "start_time": "2025-03-26T18:27:20.013965800Z"
    },
    "collapsed": false,
    "jupyter": {
     "outputs_hidden": false
    }
   },
   "outputs": [],
   "source": [
    "# Load and sort the training dataset by 'breath_id' and 'time_step'\n",
    "df = pd.read_csv(\"data/train.csv\")\n",
    "df = df.sort_values(['breath_id', 'time_step'])"
   ]
  },
  {
   "cell_type": "code",
   "execution_count": 4,
   "id": "52d9ce106c64e712",
   "metadata": {
    "ExecuteTime": {
     "end_time": "2025-03-26T18:27:25.585659800Z",
     "start_time": "2025-03-26T18:27:25.579946100Z"
    },
    "collapsed": false,
    "jupyter": {
     "outputs_hidden": false
    }
   },
   "outputs": [],
   "source": [
    "features = ['R', 'C', 'time_step', 'u_in', 'u_out']\n",
    "# Group the data by breath_id to form sequences for LSTM input\n",
    "grouped = df.groupby('breath_id')"
   ]
  },
  {
   "cell_type": "code",
   "execution_count": 5,
   "id": "6b3bc8235d885900",
   "metadata": {
    "ExecuteTime": {
     "end_time": "2025-03-26T18:27:41.653986600Z",
     "start_time": "2025-03-26T18:27:25.584654100Z"
    },
    "collapsed": false,
    "jupyter": {
     "outputs_hidden": false
    }
   },
   "outputs": [
    {
     "name": "stdout",
     "output_type": "stream",
     "text": [
      "X_sequences shape: (75450, 80, 5)\n",
      "y_sequences shape: (75450, 80, 1)\n"
     ]
    }
   ],
   "source": [
    "###########################################\n",
    "# Data Preparation: Grouping by Breath\n",
    "###########################################\n",
    "\n",
    "X_sequences = []\n",
    "y_sequences = []\n",
    "for breath_id, group in grouped:\n",
    "    group = group.sort_values('time_step')\n",
    "    X_sequences.append(group[features].values)\n",
    "    y_sequences.append(group['pressure'].values)\n",
    "\n",
    "# Convert lists to numpy arrays\n",
    "X_sequences = np.array(X_sequences)  \n",
    "y_sequences = np.array(y_sequences)\n",
    "# Reshape targets to have an extra dimension for regression output\n",
    "y_sequences = y_sequences.reshape(y_sequences.shape[0], y_sequences.shape[1], 1)\n",
    "\n",
    "print(\"X_sequences shape:\", X_sequences.shape)\n",
    "print(\"y_sequences shape:\", y_sequences.shape)\n",
    "\n",
    "# Split into training and validation sets (80% train, 20% validation)\n",
    "X_train, X_val, y_train, y_val = train_test_split(X_sequences, y_sequences, test_size=0.2, random_state=42)\n",
    "\n",
    "# Convert numpy arrays to torch tensors\n",
    "X_train_tensor = torch.tensor(X_train, dtype=torch.float32).to(device)\n",
    "y_train_tensor = torch.tensor(y_train, dtype=torch.float32).to(device)\n",
    "X_val_tensor = torch.tensor(X_val, dtype=torch.float32).to(device)\n",
    "y_val_tensor = torch.tensor(y_val, dtype=torch.float32).to(device)"
   ]
  },
  {
   "cell_type": "code",
   "execution_count": 6,
   "id": "61cc0007897ef873",
   "metadata": {
    "ExecuteTime": {
     "end_time": "2025-03-26T18:27:41.660493200Z",
     "start_time": "2025-03-26T18:27:41.656987200Z"
    },
    "collapsed": false,
    "jupyter": {
     "outputs_hidden": false
    }
   },
   "outputs": [],
   "source": [
    "###########################################\n",
    "# Create a PyTorch Dataset and DataLoader\n",
    "###########################################\n",
    "\n",
    "class BreathDataset(Dataset):\n",
    "    def __init__(self, X, y):\n",
    "        self.X = X\n",
    "        self.y = y\n",
    "    def __len__(self):\n",
    "        return self.X.shape[0]\n",
    "    def __getitem__(self, idx):\n",
    "        return self.X[idx], self.y[idx]\n",
    "\n",
    "train_dataset = BreathDataset(X_train_tensor, y_train_tensor)\n",
    "val_dataset = BreathDataset(X_val_tensor, y_val_tensor)\n",
    "train_loader = DataLoader(train_dataset, batch_size=64, shuffle=True)\n",
    "val_loader = DataLoader(val_dataset, batch_size=64, shuffle=False)"
   ]
  },
  {
   "cell_type": "code",
   "execution_count": 7,
   "id": "348f479e097e4d5a",
   "metadata": {
    "ExecuteTime": {
     "end_time": "2025-03-26T18:27:41.667676900Z",
     "start_time": "2025-03-26T18:27:41.662493100Z"
    },
    "collapsed": false,
    "jupyter": {
     "outputs_hidden": false
    }
   },
   "outputs": [],
   "source": [
    "###########################################\n",
    "# Define the LSTM Model using PyTorch\n",
    "###########################################\n",
    "\n",
    "class BiLSTMModel(nn.Module):\n",
    "    def __init__(self, input_size, hidden_size1=64, hidden_size2=32, output_size=1, dropout=0.2):\n",
    "        super(BiLSTMModel, self).__init__()\n",
    "        self.lstm1 = nn.LSTM(input_size, hidden_size1, batch_first=True, bidirectional=True)\n",
    "        self.dropout1 = nn.Dropout(dropout)\n",
    "        self.lstm2 = nn.LSTM(hidden_size1 * 2, hidden_size2, batch_first=True, bidirectional=True)\n",
    "        self.dropout2 = nn.Dropout(dropout)\n",
    "        self.fc = nn.Linear(hidden_size2 * 2, output_size)\n",
    "    \n",
    "    def forward(self, x):\n",
    "        out, _ = self.lstm1(x)\n",
    "        out = self.dropout1(out)\n",
    "        out, _ = self.lstm2(out)\n",
    "        out = self.dropout2(out)\n",
    "        out = self.fc(out)\n",
    "        return out\n",
    "\n",
    "input_size = len(features)"
   ]
  },
  {
   "cell_type": "code",
   "execution_count": 8,
   "id": "abfb3961f3ded9ba",
   "metadata": {
    "ExecuteTime": {
     "end_time": "2025-03-26T18:27:41.676115900Z",
     "start_time": "2025-03-26T18:27:41.669676700Z"
    },
    "collapsed": false,
    "jupyter": {
     "outputs_hidden": false
    }
   },
   "outputs": [],
   "source": [
    "###########################################\n",
    "# Function to Train Model and Return Best Validation MSE\n",
    "###########################################\n",
    "def train_bilstm(hidden_size1, hidden_size2, num_epochs=100, patience=10):\n",
    "    model = BiLSTMModel(input_size=input_size, hidden_size1=hidden_size1, hidden_size2=hidden_size2).to(device)\n",
    "    criterion = nn.MSELoss()\n",
    "    optimizer = optim.Adam(model.parameters(), lr=0.001)\n",
    "    \n",
    "    best_val_loss = float('inf')\n",
    "    patience_counter = 0\n",
    "    for epoch in range(num_epochs):\n",
    "        model.train()\n",
    "        train_losses = []\n",
    "        for X_batch, y_batch in train_loader:\n",
    "            optimizer.zero_grad()\n",
    "            outputs = model(X_batch)\n",
    "            loss = criterion(outputs, y_batch)\n",
    "            loss.backward()\n",
    "            optimizer.step()\n",
    "            train_losses.append(loss.item())\n",
    "        avg_train_loss = np.mean(train_losses)\n",
    "        \n",
    "        model.eval()\n",
    "        val_losses = []\n",
    "        with torch.no_grad():\n",
    "            for X_batch, y_batch in val_loader:\n",
    "                outputs = model(X_batch)\n",
    "                loss = criterion(outputs, y_batch)\n",
    "                val_losses.append(loss.item())\n",
    "        avg_val_loss = np.mean(val_losses)\n",
    "        \n",
    "        if avg_val_loss < best_val_loss:\n",
    "            best_val_loss = avg_val_loss\n",
    "            patience_counter = 0\n",
    "        else:\n",
    "            patience_counter += 1\n",
    "            if patience_counter >= patience:\n",
    "                break\n",
    "    return best_val_loss"
   ]
  },
  {
   "cell_type": "code",
   "execution_count": 9,
   "id": "3fb5f02e9fa89082",
   "metadata": {
    "ExecuteTime": {
     "end_time": "2025-03-26T20:04:16.044034500Z",
     "start_time": "2025-03-26T18:27:41.676115900Z"
    },
    "collapsed": false,
    "jupyter": {
     "outputs_hidden": false
    }
   },
   "outputs": [
    {
     "name": "stdout",
     "output_type": "stream",
     "text": [
      "Hidden Size1: 50, Best Validation MSE: 0.5015\n",
      "Hidden Size1: 100, Best Validation MSE: 0.3023\n",
      "Hidden Size1: 150, Best Validation MSE: 0.2660\n",
      "Hidden Size1: 200, Best Validation MSE: 0.2574\n",
      "Hidden Size1: 250, Best Validation MSE: 0.2616\n",
      "Hidden Size1: 300, Best Validation MSE: 0.2573\n"
     ]
    }
   ],
   "source": [
    "###########################################\n",
    "# Sensitivity Analysis: Number of Neurons in the First LSTM Layer\n",
    "###########################################\n",
    "# Let's try hidden_size1 values and set hidden_size2 as half of hidden_size1.\n",
    "hidden_sizes = [50, 100, 150, 200, 250, 300]\n",
    "results = []\n",
    "\n",
    "for hs in hidden_sizes:\n",
    "    hidden_size1 = hs\n",
    "    hidden_size2 = hs // 2  # for example, half the number of neurons in the second layer\n",
    "    best_val_mse = train_bilstm(hidden_size1, hidden_size2, num_epochs=100, patience=10)\n",
    "    results.append((hidden_size1, best_val_mse))\n",
    "    print(f\"Hidden Size1: {hidden_size1}, Best Validation MSE: {best_val_mse:.4f}\")\n"
   ]
  },
  {
   "cell_type": "code",
   "execution_count": 14,
   "id": "d21d59667b98640e",
   "metadata": {
    "ExecuteTime": {
     "end_time": "2025-03-26T20:30:02.505355900Z",
     "start_time": "2025-03-26T20:30:02.447888600Z"
    },
    "collapsed": false,
    "jupyter": {
     "outputs_hidden": false
    }
   },
   "outputs": [
    {
     "data": {
      "image/png": "[encoded data removed]",
      "text/plain": [
       "<Figure size 800x600 with 1 Axes>"
      ]
     },
     "metadata": {},
     "output_type": "display_data"
    }
   ],
   "source": [
    "###########################################\n",
    "# Plot Sensitivity Analysis: MSE vs Number of Neurons\n",
    "###########################################\n",
    "total_neurons = [int(hs + hs // 2) for hs, _ in results] # (because I forgot to append the total # of neuron above)\n",
    "mse_values = [mse for _, mse in results]\n",
    "\n",
    "plt.figure(figsize=(8, 6))\n",
    "plt.plot(total_neurons, mse_values, marker='o', linestyle='-')\n",
    "plt.xlabel('Total Number of Neurons')\n",
    "plt.ylabel('MSE')\n",
    "# plt.title('Sensitivity Analysis: MSE vs. Total Number of Neurons')\n",
    "plt.grid(True)\n",
    "plt.show()"
   ]
  }
 ],
 "metadata": {
  "kernelspec": {
   "display_name": "Python 3 (ipykernel)",
   "language": "python",
   "name": "python3"
  },
  "language_info": {
   "codemirror_mode": {
    "name": "ipython",
    "version": 3
   },
   "file_extension": ".py",
   "mimetype": "text/x-python",
   "name": "python",
   "nbconvert_exporter": "python",
   "pygments_lexer": "ipython3",
   "version": "3.11.6"
  }
 },
 "nbformat": 4,
 "nbformat_minor": 5
}
