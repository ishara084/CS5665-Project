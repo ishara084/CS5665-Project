{
 "cells": [
  {
   "cell_type": "code",
   "execution_count": 1,
   "id": "initial_id",
   "metadata": {
    "collapsed": true,
    "ExecuteTime": {
     "end_time": "2025-02-15T20:11:13.313207300Z",
     "start_time": "2025-02-15T20:11:12.291416100Z"
    }
   },
   "outputs": [],
   "source": [
    "# Import libraries\n",
    "import numpy as np\n",
    "import pandas as pd\n",
    "import matplotlib.pyplot as plt\n",
    "import matplotlib.style"
   ]
  },
  {
   "cell_type": "code",
   "execution_count": 2,
   "outputs": [
    {
     "data": {
      "text/plain": "   id  breath_id   R   C  time_step       u_in  u_out   pressure\n0   1          1  20  50   0.000000   0.083334      0   5.837492\n1   2          1  20  50   0.033652  18.383041      0   5.907794\n2   3          1  20  50   0.067514  22.509278      0   7.876254\n3   4          1  20  50   0.101542  22.808822      0  11.742872\n4   5          1  20  50   0.135756  25.355850      0  12.234987",
      "text/html": "<div>\n<style scoped>\n    .dataframe tbody tr th:only-of-type {\n        vertical-align: middle;\n    }\n\n    .dataframe tbody tr th {\n        vertical-align: top;\n    }\n\n    .dataframe thead th {\n        text-align: right;\n    }\n</style>\n<table border=\"1\" class=\"dataframe\">\n  <thead>\n    <tr style=\"text-align: right;\">\n      <th></th>\n      <th>id</th>\n      <th>breath_id</th>\n      <th>R</th>\n      <th>C</th>\n      <th>time_step</th>\n      <th>u_in</th>\n      <th>u_out</th>\n      <th>pressure</th>\n    </tr>\n  </thead>\n  <tbody>\n    <tr>\n      <th>0</th>\n      <td>1</td>\n      <td>1</td>\n      <td>20</td>\n      <td>50</td>\n      <td>0.000000</td>\n      <td>0.083334</td>\n      <td>0</td>\n      <td>5.837492</td>\n    </tr>\n    <tr>\n      <th>1</th>\n      <td>2</td>\n      <td>1</td>\n      <td>20</td>\n      <td>50</td>\n      <td>0.033652</td>\n      <td>18.383041</td>\n      <td>0</td>\n      <td>5.907794</td>\n    </tr>\n    <tr>\n      <th>2</th>\n      <td>3</td>\n      <td>1</td>\n      <td>20</td>\n      <td>50</td>\n      <td>0.067514</td>\n      <td>22.509278</td>\n      <td>0</td>\n      <td>7.876254</td>\n    </tr>\n    <tr>\n      <th>3</th>\n      <td>4</td>\n      <td>1</td>\n      <td>20</td>\n      <td>50</td>\n      <td>0.101542</td>\n      <td>22.808822</td>\n      <td>0</td>\n      <td>11.742872</td>\n    </tr>\n    <tr>\n      <th>4</th>\n      <td>5</td>\n      <td>1</td>\n      <td>20</td>\n      <td>50</td>\n      <td>0.135756</td>\n      <td>25.355850</td>\n      <td>0</td>\n      <td>12.234987</td>\n    </tr>\n  </tbody>\n</table>\n</div>"
     },
     "execution_count": 2,
     "metadata": {},
     "output_type": "execute_result"
    }
   ],
   "source": [
    "df = pd.read_csv(\"data/train.csv\")\n",
    "df.head()"
   ],
   "metadata": {
    "collapsed": false,
    "ExecuteTime": {
     "end_time": "2025-02-15T20:12:01.155900900Z",
     "start_time": "2025-02-15T20:11:58.861584600Z"
    }
   },
   "id": "aa2f972045349619"
  },
  {
   "cell_type": "code",
   "execution_count": 3,
   "outputs": [
    {
     "name": "stdout",
     "output_type": "stream",
     "text": [
      "<class 'pandas.core.frame.DataFrame'>\n",
      "RangeIndex: 6036000 entries, 0 to 6035999\n",
      "Data columns (total 8 columns):\n",
      " #   Column     Dtype  \n",
      "---  ------     -----  \n",
      " 0   id         int64  \n",
      " 1   breath_id  int64  \n",
      " 2   R          int64  \n",
      " 3   C          int64  \n",
      " 4   time_step  float64\n",
      " 5   u_in       float64\n",
      " 6   u_out      int64  \n",
      " 7   pressure   float64\n",
      "dtypes: float64(3), int64(5)\n",
      "memory usage: 368.4 MB\n"
     ]
    }
   ],
   "source": [
    "df.info()"
   ],
   "metadata": {
    "collapsed": false,
    "ExecuteTime": {
     "end_time": "2025-02-15T20:12:15.290297200Z",
     "start_time": "2025-02-15T20:12:15.278556700Z"
    }
   },
   "id": "95a63edfb8a5a0bd"
  },
  {
   "cell_type": "code",
   "execution_count": 6,
   "outputs": [
    {
     "name": "stdout",
     "output_type": "stream",
     "text": [
      "11.220408111543698\n"
     ]
    }
   ],
   "source": [
    "dummy_pressure = df['pressure'].mean()\n",
    "print(dummy_pressure)"
   ],
   "metadata": {
    "collapsed": false,
    "ExecuteTime": {
     "end_time": "2025-02-15T20:18:31.492358700Z",
     "start_time": "2025-02-15T20:18:31.475952700Z"
    }
   },
   "id": "f18b8e5ec5ae9070"
  },
  {
   "cell_type": "code",
   "execution_count": 9,
   "outputs": [
    {
     "data": {
      "text/plain": "   id  breath_id  R   C  time_step       u_in  u_out   pressure\n0   1          0  5  20   0.000000   0.000000      0  11.220408\n1   2          0  5  20   0.031904   7.515046      0  11.220408\n2   3          0  5  20   0.063827  14.651675      0  11.220408\n3   4          0  5  20   0.095751  21.230610      0  11.220408\n4   5          0  5  20   0.127644  26.320956      0  11.220408",
      "text/html": "<div>\n<style scoped>\n    .dataframe tbody tr th:only-of-type {\n        vertical-align: middle;\n    }\n\n    .dataframe tbody tr th {\n        vertical-align: top;\n    }\n\n    .dataframe thead th {\n        text-align: right;\n    }\n</style>\n<table border=\"1\" class=\"dataframe\">\n  <thead>\n    <tr style=\"text-align: right;\">\n      <th></th>\n      <th>id</th>\n      <th>breath_id</th>\n      <th>R</th>\n      <th>C</th>\n      <th>time_step</th>\n      <th>u_in</th>\n      <th>u_out</th>\n      <th>pressure</th>\n    </tr>\n  </thead>\n  <tbody>\n    <tr>\n      <th>0</th>\n      <td>1</td>\n      <td>0</td>\n      <td>5</td>\n      <td>20</td>\n      <td>0.000000</td>\n      <td>0.000000</td>\n      <td>0</td>\n      <td>11.220408</td>\n    </tr>\n    <tr>\n      <th>1</th>\n      <td>2</td>\n      <td>0</td>\n      <td>5</td>\n      <td>20</td>\n      <td>0.031904</td>\n      <td>7.515046</td>\n      <td>0</td>\n      <td>11.220408</td>\n    </tr>\n    <tr>\n      <th>2</th>\n      <td>3</td>\n      <td>0</td>\n      <td>5</td>\n      <td>20</td>\n      <td>0.063827</td>\n      <td>14.651675</td>\n      <td>0</td>\n      <td>11.220408</td>\n    </tr>\n    <tr>\n      <th>3</th>\n      <td>4</td>\n      <td>0</td>\n      <td>5</td>\n      <td>20</td>\n      <td>0.095751</td>\n      <td>21.230610</td>\n      <td>0</td>\n      <td>11.220408</td>\n    </tr>\n    <tr>\n      <th>4</th>\n      <td>5</td>\n      <td>0</td>\n      <td>5</td>\n      <td>20</td>\n      <td>0.127644</td>\n      <td>26.320956</td>\n      <td>0</td>\n      <td>11.220408</td>\n    </tr>\n  </tbody>\n</table>\n</div>"
     },
     "execution_count": 9,
     "metadata": {},
     "output_type": "execute_result"
    }
   ],
   "source": [
    "test_df = pd.read_csv('data/test.csv')\n",
    "test_df['pressure'] = dummy_pressure\n",
    "test_df.head()"
   ],
   "metadata": {
    "collapsed": false
   },
   "id": "d8b42620d79b69a3"
  },
  {
   "cell_type": "code",
   "execution_count": 12,
   "outputs": [],
   "source": [
    "submission = test_df[['id', 'pressure']]\n",
    "submission.head()\n",
    "submission.to_csv('dummy_submission.csv', index=False)"
   ],
   "metadata": {
    "collapsed": false,
    "ExecuteTime": {
     "end_time": "2025-02-15T20:20:26.515127200Z",
     "start_time": "2025-02-15T20:20:23.181366200Z"
    }
   },
   "id": "a34225022731914f"
  }
 ],
 "metadata": {
  "kernelspec": {
   "display_name": "Python 3",
   "language": "python",
   "name": "python3"
  },
  "language_info": {
   "codemirror_mode": {
    "name": "ipython",
    "version": 2
   },
   "file_extension": ".py",
   "mimetype": "text/x-python",
   "name": "python",
   "nbconvert_exporter": "python",
   "pygments_lexer": "ipython2",
   "version": "2.7.6"
  }
 },
 "nbformat": 4,
 "nbformat_minor": 5
}
